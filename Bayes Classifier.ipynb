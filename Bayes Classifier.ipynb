{
  "nbformat": 4,
  "nbformat_minor": 0,
  "metadata": {
    "colab": {
      "name": "LAB5.ipynb",
      "provenance": [],
      "collapsed_sections": []
    },
    "kernelspec": {
      "name": "python3",
      "display_name": "Python 3"
    },
    "language_info": {
      "name": "python"
    }
  },
  "cells": [
    {
      "cell_type": "markdown",
      "source": [
        "# Bayes Classifier\n"
      ],
      "metadata": {
        "id": "Eefaj8tW1ONF"
      }
    },
    {
      "cell_type": "markdown",
      "source": [
        "# The Technique (Bayes Classifier)\n",
        "\n",
        "Naïve Bayes Classifier is one of the simple and most effective Classification algorithms which helps in building the fast machine learning models that can make quick predictions. It is a probabilistic classifier, which means it predicts on the basis of the probability of an object."
      ],
      "metadata": {
        "id": "lfd6in_81pYU"
      }
    },
    {
      "cell_type": "markdown",
      "source": [
        "# The Problem\n",
        "Naive Bayes is a probabilistic machine learning algorithm that can be used in a wide variety of classification tasks.\n",
        "Typical applications include filtering spam, classifying documents, sentiment prediction etc."
      ],
      "metadata": {
        "id": "Nc5oX5ct17Nj"
      }
    },
    {
      "cell_type": "markdown",
      "source": [
        "# Code"
      ],
      "metadata": {
        "id": "Rwr90aEL2T29"
      }
    },
    {
      "cell_type": "code",
      "source": [
        "# Import scikit-learn dataset library\n",
        "from sklearn import datasets\n",
        "\n",
        "# Load dataset\n",
        "wine = datasets.load_wine()\n",
        "\n",
        "# print the names of the 13 features\n",
        "print(\"Features: \", wine.feature_names)\n",
        "\n",
        "# print the label type of wine(class_0, class_1, class_2)\n",
        "print(\"Labels: \", wine.target_names)\n",
        "\n",
        "# print data(feature)shape\n",
        "wine.data.shape\n",
        "\n",
        "# print the wine data features (top 5 records)\n",
        "print(wine.data[0:5])\n",
        "# print(wine)\n",
        "\n",
        "# print the wine labels (0:Class_0, 1:class_2, 2:class_2)\n",
        "# print(wine.target)\n",
        "\n",
        "# Import train_test_split function\n",
        "from sklearn.model_selection import train_test_split\n",
        "\n",
        "# Split dataset into training set and test set\n",
        "X_train, X_test, y_train, y_test = train_test_split(wine.data, wine.target, test_size=0.3,\n",
        "                                                    random_state=109)  # 70% training and 30% test\n",
        "\n",
        "# Import Gaussian Naive Bayes model\n",
        "from sklearn.naive_bayes import GaussianNB\n",
        "\n",
        "# Create a Gaussian Classifier\n",
        "gnb = GaussianNB()\n",
        "\n",
        "# Train the model using the training sets\n",
        "gnb.fit(X_train, y_train)\n",
        "\n",
        "# Predict the response for test dataset\n",
        "y_pred = gnb.predict(X_test)\n",
        "\n",
        "print('y_pred', y_pred.shape)\n",
        "print('y_test', y_test.shape)\n",
        "\n",
        "\n",
        "# Import scikit-learn metrics module for accuracy calculation\n",
        "from sklearn import metrics\n",
        "# from sklearn.metrics import confusion_matrix\n",
        "from sklearn.metrics import precision_score, recall_score, f1_score"
      ],
      "metadata": {
        "colab": {
          "base_uri": "https://localhost:8080/"
        },
        "id": "FOGr3RxZ2Vu4",
        "outputId": "d537c240-6b10-4e3b-8522-4e3af1744c95"
      },
      "execution_count": null,
      "outputs": [
        {
          "output_type": "stream",
          "name": "stdout",
          "text": [
            "Features:  ['alcohol', 'malic_acid', 'ash', 'alcalinity_of_ash', 'magnesium', 'total_phenols', 'flavanoids', 'nonflavanoid_phenols', 'proanthocyanins', 'color_intensity', 'hue', 'od280/od315_of_diluted_wines', 'proline']\n",
            "Labels:  ['class_0' 'class_1' 'class_2']\n",
            "[[1.423e+01 1.710e+00 2.430e+00 1.560e+01 1.270e+02 2.800e+00 3.060e+00\n",
            "  2.800e-01 2.290e+00 5.640e+00 1.040e+00 3.920e+00 1.065e+03]\n",
            " [1.320e+01 1.780e+00 2.140e+00 1.120e+01 1.000e+02 2.650e+00 2.760e+00\n",
            "  2.600e-01 1.280e+00 4.380e+00 1.050e+00 3.400e+00 1.050e+03]\n",
            " [1.316e+01 2.360e+00 2.670e+00 1.860e+01 1.010e+02 2.800e+00 3.240e+00\n",
            "  3.000e-01 2.810e+00 5.680e+00 1.030e+00 3.170e+00 1.185e+03]\n",
            " [1.437e+01 1.950e+00 2.500e+00 1.680e+01 1.130e+02 3.850e+00 3.490e+00\n",
            "  2.400e-01 2.180e+00 7.800e+00 8.600e-01 3.450e+00 1.480e+03]\n",
            " [1.324e+01 2.590e+00 2.870e+00 2.100e+01 1.180e+02 2.800e+00 2.690e+00\n",
            "  3.900e-01 1.820e+00 4.320e+00 1.040e+00 2.930e+00 7.350e+02]]\n",
            "y_pred (54,)\n",
            "y_test (54,)\n"
          ]
        }
      ]
    },
    {
      "cell_type": "markdown",
      "source": [
        "# Confuson Matrix"
      ],
      "metadata": {
        "id": "NPgN_E2f2kBy"
      }
    },
    {
      "cell_type": "code",
      "source": [
        "from sklearn.metrics import confusion_matrix\n",
        "confusion_matrix(y_test, y_pred)"
      ],
      "metadata": {
        "colab": {
          "base_uri": "https://localhost:8080/"
        },
        "id": "L8muJlEd2nJw",
        "outputId": "ce659589-92f3-4b81-be7d-5a4422ee712a"
      },
      "execution_count": null,
      "outputs": [
        {
          "output_type": "execute_result",
          "data": {
            "text/plain": [
              "array([[20,  1,  0],\n",
              "       [ 2, 15,  2],\n",
              "       [ 0,  0, 14]])"
            ]
          },
          "metadata": {},
          "execution_count": 13
        }
      ]
    },
    {
      "cell_type": "markdown",
      "source": [
        "# Result"
      ],
      "metadata": {
        "id": "rGInvtq92u-k"
      }
    },
    {
      "cell_type": "code",
      "source": [
        "print(\"Accuracy:\", metrics.accuracy_score(y_test, y_pred))\n",
        "print('Confusion Matrix is given by:\\n', metrics.confusion_matrix(y_test, y_pred))\n",
        "print('Precision: ', metrics.precision_score(y_test, y_pred, average=None))\n",
        "print('Recall:', metrics.recall_score(y_test, y_pred, average=None))\n",
        "print('F1 Score: ', metrics.f1_score(y_test, y_pred, average='weighted'))"
      ],
      "metadata": {
        "colab": {
          "base_uri": "https://localhost:8080/"
        },
        "id": "lgRRIJ112wnL",
        "outputId": "f4fa2217-c335-4049-ac9c-4fb20b37c74a"
      },
      "execution_count": null,
      "outputs": [
        {
          "output_type": "stream",
          "name": "stdout",
          "text": [
            "Accuracy: 0.9074074074074074\n",
            "Confusion Matrix is given by:\n",
            " [[20  1  0]\n",
            " [ 2 15  2]\n",
            " [ 0  0 14]]\n",
            "Precision:  [0.90909091 0.9375     0.875     ]\n",
            "Recall: [0.95238095 0.78947368 1.        ]\n",
            "F1 Score:  0.9053197161724292\n"
          ]
        }
      ]
    },
    {
      "cell_type": "markdown",
      "source": [
        "# Conclusion\n",
        "\n",
        "Check for correlated features and try removing the highly correlated ones. Naive Bayes is based on the assumption that the features are independent.\n",
        "\n",
        "Feature engineering. Combining features (a product) to form new ones that makes intuitive sense might help."
      ],
      "metadata": {
        "id": "GcfdGHY03DMm"
      }
    }
  ]
}